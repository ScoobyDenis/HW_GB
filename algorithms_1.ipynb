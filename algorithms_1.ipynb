{
 "cells": [
  {
   "cell_type": "code",
   "execution_count": 2,
   "id": "e355a0af",
   "metadata": {},
   "outputs": [],
   "source": [
    "import numpy as np\n",
    "import pandas as pd\n",
    "import matplotlib.pyplot as plt"
   ]
  },
  {
   "cell_type": "markdown",
   "id": "9b1129fd",
   "metadata": {},
   "source": [
    "### Практическое задание"
   ]
  },
  {
   "cell_type": "markdown",
   "id": "4208acc0",
   "metadata": {},
   "source": [
    "#### 1. Подберите скорость обучения (alpha) и количество итераций."
   ]
  },
  {
   "cell_type": "code",
   "execution_count": 3,
   "id": "76740dea",
   "metadata": {},
   "outputs": [],
   "source": [
    "X = np.array([[1, 1, 1, 1, 1, 1, 1, 1, 1, 1],\n",
    "              [1, 1, 2, 5, 3, 0, 5, 10, 1, 2]])\n",
    "\n",
    "y = [45, 55, 50, 55, 60, 35, 75, 80, 50, 60]\n",
    "\n",
    "def calc_mse(y, y_pred):\n",
    "    err = np.mean((y - y_pred)**2)\n",
    "    return err\n"
   ]
  },
  {
   "cell_type": "code",
   "execution_count": 13,
   "id": "e86931b2",
   "metadata": {},
   "outputs": [
    {
     "name": "stdout",
     "output_type": "stream",
     "text": [
      "Number of objects = 10        \n",
      "Learning rate = 0.07        \n",
      "Initial weights = [1.  0.5] \n",
      "\n",
      "Iteration #0: W_new = [ 8.56 26.89], MSE = 3047.75\n",
      "Iteration #10: W_new = [ 46.84015904 137.01743355], MSE = 199535.21\n",
      "Iteration #20: W_new = [ 63.93226666 179.63953959], MSE = 514660.12\n",
      "Iteration #30: W_new = [43.22022081 37.55226484], MSE = 26599.27\n",
      "Iteration #40: W_new = [40.24736303  5.36719627], MSE = 73.69\n",
      "Iteration #50: W_new = [41.76953292  4.41071466], MSE = 49.51\n",
      "Iteration #60: W_new = [42.78099228  4.22621633], MSE = 46.61\n",
      "Iteration #70: W_new = [43.42731998  4.10901469], MSE = 45.31\n",
      "Iteration #80: W_new = [43.85396092  4.03164993], MSE = 44.7\n",
      "Iteration #90: W_new = [44.14404467  3.97904771], MSE = 44.39\n",
      "Iteration #100: W_new = [44.34663984  3.9423102 ], MSE = 44.22\n",
      "Iteration #110: W_new = [44.49161367  3.91602143], MSE = 44.13\n",
      "Iteration #120: W_new = [44.59766591  3.8967905 ], MSE = 44.07\n",
      "Iteration #130: W_new = [44.67681183  3.8824386 ], MSE = 44.04\n",
      "Iteration #140: W_new = [44.73695822  3.87153198], MSE = 44.02\n",
      "Iteration #150: W_new = [44.78342394  3.86310614], MSE = 44.01\n",
      "Iteration #160: W_new = [44.81986048  3.85649894], MSE = 44.0\n",
      "Iteration #170: W_new = [44.84882215  3.85124718], MSE = 43.99\n",
      "Iteration #180: W_new = [44.87212719  3.84702117], MSE = 43.99\n",
      "Iteration #190: W_new = [44.89109091  3.8435824 ], MSE = 43.98\n",
      "Iteration #200: W_new = [44.9066792  3.8407557], MSE = 43.98\n",
      "Iteration #210: W_new = [44.91961134  3.83841066], MSE = 43.98\n",
      "Iteration #220: W_new = [44.93042996  3.83644887], MSE = 43.98\n",
      "Iteration #230: W_new = [44.93954945  3.83479519], MSE = 43.98\n",
      "Iteration #240: W_new = [44.94728984  3.83339159], MSE = 43.98\n",
      "Iteration #250: W_new = [44.95390098  3.83219276], MSE = 43.97\n",
      "Iteration #260: W_new = [44.95957984  3.83116298], MSE = 43.97\n",
      "Iteration #270: W_new = [44.96448315  3.83027384], MSE = 43.97\n",
      "Iteration #280: W_new = [44.96873678  3.82950251], MSE = 43.97\n",
      "Iteration #290: W_new = [44.97244258  3.82883052], MSE = 43.97\n",
      "Iteration #300: W_new = [44.97568366  3.8282428 ], MSE = 43.97\n",
      "Iteration #310: W_new = [44.97852829  3.82772697], MSE = 43.97\n",
      "Iteration #320: W_new = [44.98103299  3.82727279], MSE = 43.97\n",
      "Iteration #330: W_new = [44.98324479  3.82687171], MSE = 43.97\n",
      "Iteration #340: W_new = [44.98520313  3.8265166 ], MSE = 43.97\n",
      "Iteration #350: W_new = [44.98694122  3.82620142], MSE = 43.97\n",
      "Iteration #360: W_new = [44.9884872   3.82592108], MSE = 43.97\n",
      "Iteration #370: W_new = [44.98986505  3.82567123], MSE = 43.97\n",
      "Iteration #380: W_new = [44.99109526  3.82544815], MSE = 43.97\n",
      "Iteration #390: W_new = [44.99219546  3.82524864], MSE = 43.97\n",
      "Iteration #400: W_new = [44.99318085  3.82506996], MSE = 43.97\n",
      "Iteration #410: W_new = [44.99406462  3.8249097 ], MSE = 43.97\n",
      "Iteration #420: W_new = [44.99485822  3.82476579], MSE = 43.97\n",
      "Iteration #430: W_new = [44.99557164  3.82463643], MSE = 43.97\n",
      "Iteration #440: W_new = [44.99621365  3.82452001], MSE = 43.97\n",
      "Iteration #450: W_new = [44.99679192  3.82441515], MSE = 43.97\n",
      "Iteration #460: W_new = [44.99731322  3.82432062], MSE = 43.97\n",
      "Iteration #470: W_new = [44.99778353  3.82423533], MSE = 43.97\n",
      "Iteration #480: W_new = [44.99820812  3.82415834], MSE = 43.97\n",
      "Iteration #490: W_new = [44.99859168  3.82408879], MSE = 43.97\n",
      "Iteration #500: W_new = [44.99893838  3.82402592], MSE = 43.97\n",
      "Iteration #510: W_new = [44.99925191  3.82396907], MSE = 43.97\n",
      "Iteration #520: W_new = [44.9995356   3.82391762], MSE = 43.97\n",
      "Iteration #530: W_new = [44.99979239  3.82387106], MSE = 43.97\n",
      "Iteration #540: W_new = [45.00002492  3.82382889], MSE = 43.97\n",
      "Iteration #550: W_new = [45.00023556  3.8237907 ], MSE = 43.97\n",
      "Iteration #560: W_new = [45.00042643  3.82375609], MSE = 43.97\n",
      "Iteration #570: W_new = [45.00059944  3.82372471], MSE = 43.97\n",
      "Iteration #580: W_new = [45.0007563   3.82369627], MSE = 43.97\n",
      "Iteration #590: W_new = [45.00089855  3.82367047], MSE = 43.97\n",
      "Iteration #600: W_new = [45.00102759  3.82364707], MSE = 43.97\n",
      "Iteration #610: W_new = [45.00114465  3.82362585], MSE = 43.97\n",
      "Iteration #620: W_new = [45.00125089  3.82360658], MSE = 43.97\n",
      "Iteration #630: W_new = [45.0013473  3.8235891], MSE = 43.97\n",
      "Iteration #640: W_new = [45.00143482  3.82357323], MSE = 43.97\n",
      "Iteration #650: W_new = [45.00151427  3.82355882], MSE = 43.97\n",
      "Iteration #660: W_new = [45.00158641  3.82354574], MSE = 43.97\n",
      "Iteration #670: W_new = [45.00165192  3.82353386], MSE = 43.97\n",
      "Iteration #680: W_new = [45.00171141  3.82352307], MSE = 43.97\n",
      "Iteration #690: W_new = [45.00176544  3.82351328], MSE = 43.97\n",
      "Iteration #700: W_new = [45.00181451  3.82350438], MSE = 43.97\n",
      "Iteration #710: W_new = [45.00185909  3.82349629], MSE = 43.97\n",
      "Iteration #720: W_new = [45.00189959  3.82348895], MSE = 43.97\n",
      "Iteration #730: W_new = [45.00193639  3.82348228], MSE = 43.97\n",
      "Iteration #740: W_new = [45.00196982  3.82347622], MSE = 43.97\n",
      "Iteration #750: W_new = [45.00200019  3.82347071], MSE = 43.97\n",
      "Iteration #760: W_new = [45.00202779  3.8234657 ], MSE = 43.97\n",
      "Iteration #770: W_new = [45.00205287  3.82346115], MSE = 43.97\n",
      "Iteration #780: W_new = [45.00207566  3.82345702], MSE = 43.97\n",
      "Iteration #790: W_new = [45.00209638  3.82345327], MSE = 43.97\n",
      "Iteration #800: W_new = [45.0021152   3.82344985], MSE = 43.97\n",
      "Iteration #810: W_new = [45.0021323   3.82344675], MSE = 43.97\n",
      "Iteration #820: W_new = [45.00214785  3.82344393], MSE = 43.97\n",
      "Iteration #830: W_new = [45.00216198  3.82344137], MSE = 43.97\n",
      "Iteration #840: W_new = [45.00217482  3.82343904], MSE = 43.97\n",
      "Iteration #850: W_new = [45.0021865   3.82343692], MSE = 43.97\n",
      "Iteration #860: W_new = [45.00219711  3.823435  ], MSE = 43.97\n",
      "Iteration #870: W_new = [45.00220675  3.82343325], MSE = 43.97\n",
      "Iteration #880: W_new = [45.00221551  3.82343166], MSE = 43.97\n",
      "Iteration #890: W_new = [45.00222348  3.82343022], MSE = 43.97\n",
      "Iteration #900: W_new = [45.00223072  3.8234289 ], MSE = 43.97\n",
      "Iteration #910: W_new = [45.00223731  3.82342771], MSE = 43.97\n",
      "Iteration #920: W_new = [45.00224329  3.82342662], MSE = 43.97\n",
      "Iteration #930: W_new = [45.00224873  3.82342564], MSE = 43.97\n",
      "Iteration #940: W_new = [45.00225368  3.82342474], MSE = 43.97\n",
      "Iteration #950: W_new = [45.00225817  3.82342393], MSE = 43.97\n",
      "Iteration #960: W_new = [45.00226226  3.82342319], MSE = 43.97\n",
      "Iteration #970: W_new = [45.00226597  3.82342251], MSE = 43.97\n",
      "Iteration #980: W_new = [45.00226935  3.8234219 ], MSE = 43.97\n",
      "Iteration #990: W_new = [45.00227242  3.82342134], MSE = 43.97\n"
     ]
    }
   ],
   "source": [
    "n = X.shape[1]\n",
    "\n",
    "alpha = 0.07\n",
    "n_iter = 1000\n",
    "\n",
    "W = np.array([1, 0.5])\n",
    "print(f'Number of objects = {n} \\\n",
    "       \\nLearning rate = {alpha} \\\n",
    "       \\nInitial weights = {W} \\n')\n",
    "\n",
    "for i in range(n_iter):\n",
    "    y_pred = np.dot(W, X)\n",
    "    err = calc_mse(y, y_pred)\n",
    "    for k in range(W.shape[0]):\n",
    "        W[k] -= alpha * (1/n * 2 * np.sum(X[k] * (y_pred - y)))\n",
    "        \n",
    "    if i % 10 == 0:\n",
    "        alpha /= 1.1\n",
    "        print(f'Iteration #{i}: W_new = {W}, MSE = {round(err,2)}')"
   ]
  },
  {
   "cell_type": "code",
   "execution_count": 5,
   "id": "e011b442",
   "metadata": {},
   "outputs": [
    {
     "name": "stdout",
     "output_type": "stream",
     "text": [
      "Number of objects = 10        \n",
      "Learning rate = 0.01        \n",
      "Initial weights = [1.  0.5] \n",
      "\n",
      "Iteration #0: W_new = 2.1100000000000003, MSE = 3047.75\n",
      "Iteration #10: W_new = 2.1100000000000003, MSE = 3047.75\n",
      "Iteration #20: W_new = 2.1100000000000003, MSE = 3047.75\n",
      "Iteration #30: W_new = 2.1100000000000003, MSE = 3047.75\n",
      "Iteration #40: W_new = 2.1100000000000003, MSE = 3047.75\n",
      "Iteration #50: W_new = 2.1100000000000003, MSE = 3047.75\n",
      "Iteration #60: W_new = 2.1100000000000003, MSE = 3047.75\n",
      "Iteration #70: W_new = 2.1100000000000003, MSE = 3047.75\n",
      "Iteration #80: W_new = 2.1100000000000003, MSE = 3047.75\n",
      "Iteration #90: W_new = 2.1100000000000003, MSE = 3047.75\n",
      "Iteration #100: W_new = 2.1100000000000003, MSE = 3047.75\n",
      "Iteration #110: W_new = 2.1100000000000003, MSE = 3047.75\n",
      "Iteration #120: W_new = 2.1100000000000003, MSE = 3047.75\n",
      "Iteration #130: W_new = 2.1100000000000003, MSE = 3047.75\n",
      "Iteration #140: W_new = 2.1100000000000003, MSE = 3047.75\n",
      "Iteration #150: W_new = 2.1100000000000003, MSE = 3047.75\n",
      "Iteration #160: W_new = 2.1100000000000003, MSE = 3047.75\n",
      "Iteration #170: W_new = 2.1100000000000003, MSE = 3047.75\n",
      "Iteration #180: W_new = 2.1100000000000003, MSE = 3047.75\n",
      "Iteration #190: W_new = 2.1100000000000003, MSE = 3047.75\n"
     ]
    }
   ],
   "source": []
  },
  {
   "cell_type": "code",
   "execution_count": 11,
   "id": "bc49dc0c",
   "metadata": {},
   "outputs": [
    {
     "ename": "ValueError",
     "evalue": "shapes (2,10) and (2,) not aligned: 10 (dim 1) != 2 (dim 0)",
     "output_type": "error",
     "traceback": [
      "\u001b[1;31m---------------------------------------------------------------------------\u001b[0m",
      "\u001b[1;31mValueError\u001b[0m                                Traceback (most recent call last)",
      "\u001b[1;32mC:\\Users\\PAVLOV~1\\AppData\\Local\\Temp/ipykernel_7416/3654054852.py\u001b[0m in \u001b[0;36m<module>\u001b[1;34m\u001b[0m\n\u001b[0;32m      8\u001b[0m \u001b[1;33m\u001b[0m\u001b[0m\n\u001b[0;32m      9\u001b[0m \u001b[1;32mwhile\u001b[0m \u001b[0mweight_dist\u001b[0m \u001b[1;33m>\u001b[0m \u001b[0mmin_weight_dist\u001b[0m \u001b[1;32mand\u001b[0m \u001b[0miter_num\u001b[0m \u001b[1;33m<\u001b[0m \u001b[0mmax_iter\u001b[0m\u001b[1;33m:\u001b[0m\u001b[1;33m\u001b[0m\u001b[1;33m\u001b[0m\u001b[0m\n\u001b[1;32m---> 10\u001b[1;33m     \u001b[0my_pred\u001b[0m \u001b[1;33m=\u001b[0m \u001b[0mnp\u001b[0m\u001b[1;33m.\u001b[0m\u001b[0mdot\u001b[0m\u001b[1;33m(\u001b[0m\u001b[0mX\u001b[0m\u001b[1;33m,\u001b[0m \u001b[0mW\u001b[0m\u001b[1;33m)\u001b[0m\u001b[1;33m\u001b[0m\u001b[1;33m\u001b[0m\u001b[0m\n\u001b[0m\u001b[0;32m     11\u001b[0m     \u001b[0mdQ\u001b[0m \u001b[1;33m=\u001b[0m \u001b[1;36m2\u001b[0m \u001b[1;33m/\u001b[0m \u001b[0my\u001b[0m\u001b[1;33m.\u001b[0m\u001b[0mshape\u001b[0m\u001b[1;33m[\u001b[0m\u001b[1;36m0\u001b[0m\u001b[1;33m]\u001b[0m \u001b[1;33m*\u001b[0m \u001b[0mnp\u001b[0m\u001b[1;33m.\u001b[0m\u001b[0mdot\u001b[0m\u001b[1;33m(\u001b[0m\u001b[0mX\u001b[0m\u001b[1;33m.\u001b[0m\u001b[0mT\u001b[0m\u001b[1;33m,\u001b[0m \u001b[0my_pred\u001b[0m \u001b[1;33m-\u001b[0m \u001b[0my\u001b[0m\u001b[1;33m)\u001b[0m\u001b[1;33m\u001b[0m\u001b[1;33m\u001b[0m\u001b[0m\n\u001b[0;32m     12\u001b[0m     \u001b[0mnew_w\u001b[0m \u001b[1;33m=\u001b[0m \u001b[0mW\u001b[0m \u001b[1;33m-\u001b[0m \u001b[0meta\u001b[0m \u001b[1;33m*\u001b[0m \u001b[0mdQ\u001b[0m\u001b[1;33m\u001b[0m\u001b[1;33m\u001b[0m\u001b[0m\n",
      "\u001b[1;32m<__array_function__ internals>\u001b[0m in \u001b[0;36mdot\u001b[1;34m(*args, **kwargs)\u001b[0m\n",
      "\u001b[1;31mValueError\u001b[0m: shapes (2,10) and (2,) not aligned: 10 (dim 1) != 2 (dim 0)"
     ]
    }
   ],
   "source": []
  },
  {
   "cell_type": "code",
   "execution_count": null,
   "id": "008ad3a2",
   "metadata": {},
   "outputs": [],
   "source": []
  }
 ],
 "metadata": {
  "kernelspec": {
   "display_name": "Python 3 (ipykernel)",
   "language": "python",
   "name": "python3"
  },
  "language_info": {
   "codemirror_mode": {
    "name": "ipython",
    "version": 3
   },
   "file_extension": ".py",
   "mimetype": "text/x-python",
   "name": "python",
   "nbconvert_exporter": "python",
   "pygments_lexer": "ipython3",
   "version": "3.9.7"
  }
 },
 "nbformat": 4,
 "nbformat_minor": 5
}
